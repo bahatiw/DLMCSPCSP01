{
 "cells": [
  {
   "cell_type": "markdown",
   "id": "d233da89-5f50-40fa-a435-98baf43400a3",
   "metadata": {},
   "source": [
    "# Import libraries we need for this project"
   ]
  },
  {
   "cell_type": "code",
   "execution_count": null,
   "id": "e404166b-2025-46b2-aa47-056701970f92",
   "metadata": {},
   "outputs": [],
   "source": [
    "import pandas as pd\n",
    "from sklearn.linear_model import LogisticRegression\n",
    "from sklearn.linear_model import LinearRegression\n",
    "from sklearn.ensemble import RandomForestRegressor\n",
    "from sklearn import preprocessing\n",
    "import numpy as np\n",
    "from sklearn.model_selection import train_test_split\n",
    "from sklearn.tree import DecisionTreeClassifier\n",
    "from sklearn.svm import SVC\n",
    "from sklearn import svm\n",
    "from sklearn.metrics import jaccard_score\n",
    "from sklearn.metrics import f1_score\n",
    "from sklearn.metrics import log_loss\n",
    "from sklearn.metrics import confusion_matrix, accuracy_score\n",
    "import sklearn.metrics as metrics\n",
    "import seaborn as sns\n",
    "import matplotlib as mpl\n",
    "import matplotlib.pyplot as plt\n",
    "from time import time"
   ]
  },
  {
   "cell_type": "markdown",
   "id": "66d4816c-1a26-430f-9bb1-f050c7b34e54",
   "metadata": {},
   "source": [
    "### Specify the file contain our data."
   ]
  },
  {
   "cell_type": "code",
   "execution_count": null,
   "id": "a196a69b-7d2b-490c-9cfb-89796fff94f6",
   "metadata": {},
   "outputs": [],
   "source": [
    "filename =\"Weather_Data.csv\""
   ]
  },
  {
   "cell_type": "markdown",
   "id": "781816a9-27ed-4a9b-97e6-b48981315906",
   "metadata": {},
   "source": [
    "### Read This into a Panda DataFrame"
   ]
  },
  {
   "cell_type": "code",
   "execution_count": null,
   "id": "e967c312-60a4-4e84-8013-a99dc1a0155f",
   "metadata": {},
   "outputs": [],
   "source": [
    "df = pd.read_csv(\"Weather_Data.csv\")"
   ]
  },
  {
   "cell_type": "code",
   "execution_count": null,
   "id": "eee3cff8-103e-479d-9795-b14a81b2bd4a",
   "metadata": {},
   "outputs": [],
   "source": [
    "print('Loaded {} records from {}.\\n'.format(len(df), filename))"
   ]
  },
  {
   "cell_type": "code",
   "execution_count": null,
   "id": "355d1a12-638c-47bd-9cad-652e77d364e2",
   "metadata": {},
   "outputs": [],
   "source": [
    "print(df.info())  "
   ]
  },
  {
   "cell_type": "markdown",
   "id": "1e290731-5c49-4479-bf80-8aa635a5d2b8",
   "metadata": {},
   "source": [
    "### Check that we have loaded the correct data"
   ]
  },
  {
   "cell_type": "code",
   "execution_count": null,
   "id": "b4c50b0b-61ba-483b-84b3-191b148a15b4",
   "metadata": {},
   "outputs": [],
   "source": [
    "df.head()"
   ]
  },
  {
   "cell_type": "markdown",
   "id": "4676deb6-2f0c-4bea-a5d5-41cbcfa55cc8",
   "metadata": {},
   "source": [
    "### For Regression we need to convert some categorical data to binary in order for the model to work. In our case RainToday,WindGustDir,WindDir9am,WindDir3pm. We perform one hot encoding "
   ]
  },
  {
   "cell_type": "code",
   "execution_count": null,
   "id": "fd8b5c48-a169-490c-bdac-bce022a5a11f",
   "metadata": {},
   "outputs": [],
   "source": [
    "df_processed = pd.get_dummies(data=df, columns=['RainToday', 'WindGustDir', 'WindDir9am', 'WindDir3pm'])"
   ]
  },
  {
   "cell_type": "markdown",
   "id": "538b3baa-8a68-42f8-be2f-b47616ddcab0",
   "metadata": {},
   "source": [
    "## Reconfirm our data is in shape"
   ]
  },
  {
   "cell_type": "code",
   "execution_count": null,
   "id": "c0392010-3562-4550-a574-16b2284ec129",
   "metadata": {},
   "outputs": [],
   "source": [
    "df_processed.head()"
   ]
  },
  {
   "cell_type": "markdown",
   "id": "841d80a9-841f-41de-b150-ceef66f17bc3",
   "metadata": {},
   "source": [
    "### We also change the RainTommorow Column to binary from \"Yes\" and \"No\" for regression"
   ]
  },
  {
   "cell_type": "code",
   "execution_count": null,
   "id": "b45c59bc-05e8-4cff-a3af-019a1a738e5d",
   "metadata": {},
   "outputs": [],
   "source": [
    "df_processed.replace(['No', 'Yes'], [0,1], inplace=True)"
   ]
  },
  {
   "cell_type": "markdown",
   "id": "4e179958-920b-4e35-9c56-11c38918ab75",
   "metadata": {},
   "source": [
    "# Prepare our data for Training and Testing"
   ]
  },
  {
   "cell_type": "code",
   "execution_count": null,
   "id": "082e7235-4f75-4987-9246-c5c2bc4e2ba6",
   "metadata": {},
   "outputs": [],
   "source": [
    "df_processed.drop('Date',axis=1,inplace=True)"
   ]
  },
  {
   "cell_type": "code",
   "execution_count": null,
   "id": "e3495254-98d8-4515-a662-ebb6303690de",
   "metadata": {},
   "outputs": [],
   "source": [
    "df_processed = df_processed.astype(float)"
   ]
  },
  {
   "cell_type": "code",
   "execution_count": null,
   "id": "b22de94c-0a5f-49d2-8d1d-67e13b39a92b",
   "metadata": {},
   "outputs": [],
   "source": [
    "print(df_processed.info()) "
   ]
  },
  {
   "cell_type": "code",
   "execution_count": null,
   "id": "8f7fe50e-6978-4e78-ae72-ee69e2a4b6af",
   "metadata": {},
   "outputs": [],
   "source": [
    "with pd.option_context('float_format', '{:.2f}'.format): \n",
    "    print( df_processed.describe() )"
   ]
  },
  {
   "cell_type": "markdown",
   "id": "8d501938-a1c3-4add-815d-b595de92aae5",
   "metadata": {},
   "source": [
    "## Use histograms to visualize the distribution of various features"
   ]
  },
  {
   "cell_type": "code",
   "execution_count": null,
   "id": "d905978f-b24c-4956-bdbe-6b222f7fbc7d",
   "metadata": {},
   "outputs": [],
   "source": [
    "mpl.rc('axes', labelsize=14)\n",
    "mpl.rc('xtick', labelsize=12)\n",
    "mpl.rc('ytick', labelsize=12)\n",
    "\n",
    "df.hist(figsize=(20,15));\n",
    "plt.figure();"
   ]
  },
  {
   "cell_type": "markdown",
   "id": "c64ea82f-f456-4607-afd6-595f1210b089",
   "metadata": {},
   "source": [
    "## Show correlations with RainTommorow"
   ]
  },
  {
   "cell_type": "code",
   "execution_count": null,
   "id": "31ca7ba7-3132-4eb8-aae0-e751459cf680",
   "metadata": {},
   "outputs": [],
   "source": [
    "print('Pearson correlations with RainTommorow')\n",
    "corr_matrix = df_processed.corr()\n",
    "corr_matrix['RainTomorrow'].sort_values(ascending=False)"
   ]
  },
  {
   "cell_type": "markdown",
   "id": "f5e2e454-6667-4111-b3b7-f28af59643b6",
   "metadata": {},
   "source": [
    "## Analyze cross correlations"
   ]
  },
  {
   "cell_type": "code",
   "execution_count": null,
   "id": "02e0fa43-53ff-4b5d-9687-8f1364d1ce23",
   "metadata": {},
   "outputs": [],
   "source": [
    "# Specify size and title for the visualization\n",
    "f, axes = plt.subplots(figsize=(20, 20))\n",
    "plt.title('All Correlations',fontsize=32)\n",
    "\n",
    "# For the purpose of visualization, we'll use a different order for the features.\n",
    "# We'll start with RainTommorow, to make it easier to compare all other features with it.\n",
    "features = ['RainTomorrow','Humidity3pm','Cloud3pm',\n",
    "            'RainToday_Yes','Cloud9am','MaxTemp','Rainfall','Evaporation','Temp3pm' ]\n",
    "\n",
    "# Use Seaborn library to plot the correlation matrix as a heatmap\n",
    "sns.heatmap(df_processed[features].corr(),\n",
    "           linewidths = 3.0,\n",
    "           square = True,\n",
    "           cmap = 'Greens',\n",
    "           linecolor='w',\n",
    "           annot=True,\n",
    "           annot_kws={'size':11},\n",
    "           cbar_kws={'shrink': .5});\n"
   ]
  },
  {
   "cell_type": "code",
   "execution_count": null,
   "id": "7d9c5098-306f-444a-a1b7-29334bc1882d",
   "metadata": {},
   "outputs": [],
   "source": [
    "x_values = df_processed.drop(columns='RainTomorrow', axis=1)"
   ]
  },
  {
   "cell_type": "code",
   "execution_count": null,
   "id": "29eee647-f0c2-4bf2-adfe-55f51247554b",
   "metadata": {},
   "outputs": [],
   "source": [
    "y_values = df_processed['RainTomorrow']"
   ]
  },
  {
   "cell_type": "markdown",
   "id": "dc36e67d-3010-47f3-b9f7-97403f5d3e04",
   "metadata": {},
   "source": [
    "# SVM"
   ]
  },
  {
   "cell_type": "markdown",
   "id": "c935f3b9-a53a-48d8-871e-83df1687c7da",
   "metadata": {},
   "source": [
    "### We split the data for training and testing set to make it 20% for testing and 80% for Training"
   ]
  },
  {
   "cell_type": "code",
   "execution_count": null,
   "id": "be3309cd-b9a4-47c2-ae9c-51d805cfdce6",
   "metadata": {},
   "outputs": [],
   "source": [
    "x_train, x_test, y_train, y_test =  train_test_split(x_values,y_values , random_state=10,test_size=0.2, shuffle=True)"
   ]
  },
  {
   "cell_type": "code",
   "execution_count": null,
   "id": "de02c126-b02c-49fe-ba79-93cc79a4a4d1",
   "metadata": {},
   "outputs": [],
   "source": [
    "from sklearn.svm import SVC\n",
    "\n",
    "svm = SVC(kernel = 'rbf', C = 100, random_state = 1936)\n",
    "svm.fit(x_train, y_train)\n",
    "\n",
    "plot_decision_boundary(x_train, y_train, svm, True)"
   ]
  },
  {
   "cell_type": "code",
   "execution_count": null,
   "id": "1806b9f6-6188-4f08-b085-276f69f760ae",
   "metadata": {},
   "outputs": [],
   "source": [
    "from sklearn.model_selection import GridSearchCV\n",
    "\n",
    "svm = SVC(gamma = 'auto', random_state = 1936)\n",
    "\n",
    "grid = [{'kernel': ['linear', 'rbf', 'poly', 'sigmoid'],\n",
    "         'C': [0.01, 0.1, 1, 5, 10, 25, 50, 100]}]\n",
    "\n",
    "search = GridSearchCV(svm, param_grid = grid, scoring = 'accuracy', cv = 5)\n",
    "search.fit(x_train, np.ravel(y_train));\n",
    "\n",
    "print(search.best_params_)"
   ]
  },
  {
   "cell_type": "code",
   "execution_count": null,
   "id": "be260e30-52f0-42f9-9c35-f19197117bee",
   "metadata": {},
   "outputs": [],
   "source": []
  }
 ],
 "metadata": {
  "kernelspec": {
   "display_name": "Python 3 (ipykernel)",
   "language": "python",
   "name": "python3"
  },
  "language_info": {
   "codemirror_mode": {
    "name": "ipython",
    "version": 3
   },
   "file_extension": ".py",
   "mimetype": "text/x-python",
   "name": "python",
   "nbconvert_exporter": "python",
   "pygments_lexer": "ipython3",
   "version": "3.12.2"
  }
 },
 "nbformat": 4,
 "nbformat_minor": 5
}
