{
 "cells": [
  {
   "cell_type": "markdown",
   "id": "d233da89-5f50-40fa-a435-98baf43400a3",
   "metadata": {},
   "source": [
    "# Import libraries we need for this project"
   ]
  },
  {
   "cell_type": "code",
   "execution_count": 31,
   "id": "e404166b-2025-46b2-aa47-056701970f92",
   "metadata": {},
   "outputs": [],
   "source": [
    "import pandas as pd\n",
    "from sklearn.linear_model import LogisticRegression\n",
    "from sklearn.linear_model import LinearRegression\n",
    "from sklearn.ensemble import RandomForestClassifier\n",
    "from sklearn import preprocessing\n",
    "import numpy as np\n",
    "from sklearn.model_selection import train_test_split\n",
    "from sklearn.tree import DecisionTreeClassifier\n",
    "from sklearn import svm\n",
    "from sklearn.metrics import jaccard_score\n",
    "from sklearn.metrics import f1_score\n",
    "from sklearn.metrics import log_loss\n",
    "from sklearn.metrics import confusion_matrix, accuracy_score\n",
    "import sklearn.metrics as metrics\n",
    "from sklearn.metrics import accuracy_score\n",
    "from sklearn.metrics import precision_score\n",
    "from sklearn.metrics import recall_score\n",
    "from sklearn.metrics import f1_score\n",
    "from sklearn.metrics import roc_curve\n",
    "from sklearn.metrics import roc_auc_score\n",
    "from sklearn.metrics import precision_recall_curve\n",
    "from sklearn.metrics import average_precision_score\n",
    "import seaborn as sns\n",
    "import matplotlib as mpl\n",
    "import matplotlib.pyplot as plt\n",
    "from time import time"
   ]
  },
  {
   "cell_type": "markdown",
   "id": "66d4816c-1a26-430f-9bb1-f050c7b34e54",
   "metadata": {},
   "source": [
    "### Specify the file contain our data."
   ]
  },
  {
   "cell_type": "code",
   "execution_count": 32,
   "id": "a196a69b-7d2b-490c-9cfb-89796fff94f6",
   "metadata": {},
   "outputs": [],
   "source": [
    "filename =\"Weather_Data.csv\""
   ]
  },
  {
   "cell_type": "markdown",
   "id": "781816a9-27ed-4a9b-97e6-b48981315906",
   "metadata": {},
   "source": [
    "### Read This into a Panda DataFrame"
   ]
  },
  {
   "cell_type": "code",
   "execution_count": 33,
   "id": "e967c312-60a4-4e84-8013-a99dc1a0155f",
   "metadata": {},
   "outputs": [],
   "source": [
    "df = pd.read_csv(\"Weather_Data.csv\")"
   ]
  },
  {
   "cell_type": "code",
   "execution_count": 34,
   "id": "eee3cff8-103e-479d-9795-b14a81b2bd4a",
   "metadata": {},
   "outputs": [
    {
     "name": "stdout",
     "output_type": "stream",
     "text": [
      "Loaded 3271 records from Weather_Data.csv.\n",
      "\n"
     ]
    }
   ],
   "source": [
    "print('Loaded {} records from {}.\\n'.format(len(df), filename))"
   ]
  },
  {
   "cell_type": "markdown",
   "id": "1e290731-5c49-4479-bf80-8aa635a5d2b8",
   "metadata": {},
   "source": [
    "### Check that we have loaded the correct data"
   ]
  },
  {
   "cell_type": "code",
   "execution_count": 35,
   "id": "b4c50b0b-61ba-483b-84b3-191b148a15b4",
   "metadata": {},
   "outputs": [
    {
     "data": {
      "text/html": [
       "<div>\n",
       "<style scoped>\n",
       "    .dataframe tbody tr th:only-of-type {\n",
       "        vertical-align: middle;\n",
       "    }\n",
       "\n",
       "    .dataframe tbody tr th {\n",
       "        vertical-align: top;\n",
       "    }\n",
       "\n",
       "    .dataframe thead th {\n",
       "        text-align: right;\n",
       "    }\n",
       "</style>\n",
       "<table border=\"1\" class=\"dataframe\">\n",
       "  <thead>\n",
       "    <tr style=\"text-align: right;\">\n",
       "      <th></th>\n",
       "      <th>Date</th>\n",
       "      <th>MinTemp</th>\n",
       "      <th>MaxTemp</th>\n",
       "      <th>Rainfall</th>\n",
       "      <th>Evaporation</th>\n",
       "      <th>Sunshine</th>\n",
       "      <th>WindGustDir</th>\n",
       "      <th>WindGustSpeed</th>\n",
       "      <th>WindDir9am</th>\n",
       "      <th>WindDir3pm</th>\n",
       "      <th>...</th>\n",
       "      <th>Humidity9am</th>\n",
       "      <th>Humidity3pm</th>\n",
       "      <th>Pressure9am</th>\n",
       "      <th>Pressure3pm</th>\n",
       "      <th>Cloud9am</th>\n",
       "      <th>Cloud3pm</th>\n",
       "      <th>Temp9am</th>\n",
       "      <th>Temp3pm</th>\n",
       "      <th>RainToday</th>\n",
       "      <th>RainTomorrow</th>\n",
       "    </tr>\n",
       "  </thead>\n",
       "  <tbody>\n",
       "    <tr>\n",
       "      <th>0</th>\n",
       "      <td>2/1/2008</td>\n",
       "      <td>19.5</td>\n",
       "      <td>22.4</td>\n",
       "      <td>15.6</td>\n",
       "      <td>6.2</td>\n",
       "      <td>0.0</td>\n",
       "      <td>W</td>\n",
       "      <td>41</td>\n",
       "      <td>S</td>\n",
       "      <td>SSW</td>\n",
       "      <td>...</td>\n",
       "      <td>92</td>\n",
       "      <td>84</td>\n",
       "      <td>1017.6</td>\n",
       "      <td>1017.4</td>\n",
       "      <td>8</td>\n",
       "      <td>8</td>\n",
       "      <td>20.7</td>\n",
       "      <td>20.9</td>\n",
       "      <td>Yes</td>\n",
       "      <td>Yes</td>\n",
       "    </tr>\n",
       "    <tr>\n",
       "      <th>1</th>\n",
       "      <td>2/2/2008</td>\n",
       "      <td>19.5</td>\n",
       "      <td>25.6</td>\n",
       "      <td>6.0</td>\n",
       "      <td>3.4</td>\n",
       "      <td>2.7</td>\n",
       "      <td>W</td>\n",
       "      <td>41</td>\n",
       "      <td>W</td>\n",
       "      <td>E</td>\n",
       "      <td>...</td>\n",
       "      <td>83</td>\n",
       "      <td>73</td>\n",
       "      <td>1017.9</td>\n",
       "      <td>1016.4</td>\n",
       "      <td>7</td>\n",
       "      <td>7</td>\n",
       "      <td>22.4</td>\n",
       "      <td>24.8</td>\n",
       "      <td>Yes</td>\n",
       "      <td>Yes</td>\n",
       "    </tr>\n",
       "    <tr>\n",
       "      <th>2</th>\n",
       "      <td>2/3/2008</td>\n",
       "      <td>21.6</td>\n",
       "      <td>24.5</td>\n",
       "      <td>6.6</td>\n",
       "      <td>2.4</td>\n",
       "      <td>0.1</td>\n",
       "      <td>W</td>\n",
       "      <td>41</td>\n",
       "      <td>ESE</td>\n",
       "      <td>ESE</td>\n",
       "      <td>...</td>\n",
       "      <td>88</td>\n",
       "      <td>86</td>\n",
       "      <td>1016.7</td>\n",
       "      <td>1015.6</td>\n",
       "      <td>7</td>\n",
       "      <td>8</td>\n",
       "      <td>23.5</td>\n",
       "      <td>23.0</td>\n",
       "      <td>Yes</td>\n",
       "      <td>Yes</td>\n",
       "    </tr>\n",
       "    <tr>\n",
       "      <th>3</th>\n",
       "      <td>2/4/2008</td>\n",
       "      <td>20.2</td>\n",
       "      <td>22.8</td>\n",
       "      <td>18.8</td>\n",
       "      <td>2.2</td>\n",
       "      <td>0.0</td>\n",
       "      <td>W</td>\n",
       "      <td>41</td>\n",
       "      <td>NNE</td>\n",
       "      <td>E</td>\n",
       "      <td>...</td>\n",
       "      <td>83</td>\n",
       "      <td>90</td>\n",
       "      <td>1014.2</td>\n",
       "      <td>1011.8</td>\n",
       "      <td>8</td>\n",
       "      <td>8</td>\n",
       "      <td>21.4</td>\n",
       "      <td>20.9</td>\n",
       "      <td>Yes</td>\n",
       "      <td>Yes</td>\n",
       "    </tr>\n",
       "    <tr>\n",
       "      <th>4</th>\n",
       "      <td>2/5/2008</td>\n",
       "      <td>19.7</td>\n",
       "      <td>25.7</td>\n",
       "      <td>77.4</td>\n",
       "      <td>4.8</td>\n",
       "      <td>0.0</td>\n",
       "      <td>W</td>\n",
       "      <td>41</td>\n",
       "      <td>NNE</td>\n",
       "      <td>W</td>\n",
       "      <td>...</td>\n",
       "      <td>88</td>\n",
       "      <td>74</td>\n",
       "      <td>1008.3</td>\n",
       "      <td>1004.8</td>\n",
       "      <td>8</td>\n",
       "      <td>8</td>\n",
       "      <td>22.5</td>\n",
       "      <td>25.5</td>\n",
       "      <td>Yes</td>\n",
       "      <td>Yes</td>\n",
       "    </tr>\n",
       "  </tbody>\n",
       "</table>\n",
       "<p>5 rows × 22 columns</p>\n",
       "</div>"
      ],
      "text/plain": [
       "       Date  MinTemp  MaxTemp  Rainfall  Evaporation  Sunshine WindGustDir  \\\n",
       "0  2/1/2008     19.5     22.4      15.6          6.2       0.0           W   \n",
       "1  2/2/2008     19.5     25.6       6.0          3.4       2.7           W   \n",
       "2  2/3/2008     21.6     24.5       6.6          2.4       0.1           W   \n",
       "3  2/4/2008     20.2     22.8      18.8          2.2       0.0           W   \n",
       "4  2/5/2008     19.7     25.7      77.4          4.8       0.0           W   \n",
       "\n",
       "   WindGustSpeed WindDir9am WindDir3pm  ...  Humidity9am  Humidity3pm  \\\n",
       "0             41          S        SSW  ...           92           84   \n",
       "1             41          W          E  ...           83           73   \n",
       "2             41        ESE        ESE  ...           88           86   \n",
       "3             41        NNE          E  ...           83           90   \n",
       "4             41        NNE          W  ...           88           74   \n",
       "\n",
       "   Pressure9am  Pressure3pm  Cloud9am  Cloud3pm  Temp9am  Temp3pm  RainToday  \\\n",
       "0       1017.6       1017.4         8         8     20.7     20.9        Yes   \n",
       "1       1017.9       1016.4         7         7     22.4     24.8        Yes   \n",
       "2       1016.7       1015.6         7         8     23.5     23.0        Yes   \n",
       "3       1014.2       1011.8         8         8     21.4     20.9        Yes   \n",
       "4       1008.3       1004.8         8         8     22.5     25.5        Yes   \n",
       "\n",
       "   RainTomorrow  \n",
       "0           Yes  \n",
       "1           Yes  \n",
       "2           Yes  \n",
       "3           Yes  \n",
       "4           Yes  \n",
       "\n",
       "[5 rows x 22 columns]"
      ]
     },
     "execution_count": 35,
     "metadata": {},
     "output_type": "execute_result"
    }
   ],
   "source": [
    "df.head()"
   ]
  },
  {
   "cell_type": "markdown",
   "id": "4676deb6-2f0c-4bea-a5d5-41cbcfa55cc8",
   "metadata": {},
   "source": [
    "### For Regression we need to convert some categorical data to binary in order for the model to work. In our case RainToday,WindGustDir,WindDir9am,WindDir3pm. We perform one hot encoding "
   ]
  },
  {
   "cell_type": "code",
   "execution_count": 36,
   "id": "fd8b5c48-a169-490c-bdac-bce022a5a11f",
   "metadata": {},
   "outputs": [],
   "source": [
    "df_processed = pd.get_dummies(data=df, columns=['RainToday', 'WindGustDir', 'WindDir9am', 'WindDir3pm'])"
   ]
  },
  {
   "cell_type": "markdown",
   "id": "538b3baa-8a68-42f8-be2f-b47616ddcab0",
   "metadata": {},
   "source": [
    "## Reconfirm our data is in shape"
   ]
  },
  {
   "cell_type": "code",
   "execution_count": 37,
   "id": "c0392010-3562-4550-a574-16b2284ec129",
   "metadata": {},
   "outputs": [
    {
     "data": {
      "text/html": [
       "<div>\n",
       "<style scoped>\n",
       "    .dataframe tbody tr th:only-of-type {\n",
       "        vertical-align: middle;\n",
       "    }\n",
       "\n",
       "    .dataframe tbody tr th {\n",
       "        vertical-align: top;\n",
       "    }\n",
       "\n",
       "    .dataframe thead th {\n",
       "        text-align: right;\n",
       "    }\n",
       "</style>\n",
       "<table border=\"1\" class=\"dataframe\">\n",
       "  <thead>\n",
       "    <tr style=\"text-align: right;\">\n",
       "      <th></th>\n",
       "      <th>Date</th>\n",
       "      <th>MinTemp</th>\n",
       "      <th>MaxTemp</th>\n",
       "      <th>Rainfall</th>\n",
       "      <th>Evaporation</th>\n",
       "      <th>Sunshine</th>\n",
       "      <th>WindGustSpeed</th>\n",
       "      <th>WindSpeed9am</th>\n",
       "      <th>WindSpeed3pm</th>\n",
       "      <th>Humidity9am</th>\n",
       "      <th>...</th>\n",
       "      <th>WindDir3pm_NNW</th>\n",
       "      <th>WindDir3pm_NW</th>\n",
       "      <th>WindDir3pm_S</th>\n",
       "      <th>WindDir3pm_SE</th>\n",
       "      <th>WindDir3pm_SSE</th>\n",
       "      <th>WindDir3pm_SSW</th>\n",
       "      <th>WindDir3pm_SW</th>\n",
       "      <th>WindDir3pm_W</th>\n",
       "      <th>WindDir3pm_WNW</th>\n",
       "      <th>WindDir3pm_WSW</th>\n",
       "    </tr>\n",
       "  </thead>\n",
       "  <tbody>\n",
       "    <tr>\n",
       "      <th>0</th>\n",
       "      <td>2/1/2008</td>\n",
       "      <td>19.5</td>\n",
       "      <td>22.4</td>\n",
       "      <td>15.6</td>\n",
       "      <td>6.2</td>\n",
       "      <td>0.0</td>\n",
       "      <td>41</td>\n",
       "      <td>17</td>\n",
       "      <td>20</td>\n",
       "      <td>92</td>\n",
       "      <td>...</td>\n",
       "      <td>False</td>\n",
       "      <td>False</td>\n",
       "      <td>False</td>\n",
       "      <td>False</td>\n",
       "      <td>False</td>\n",
       "      <td>True</td>\n",
       "      <td>False</td>\n",
       "      <td>False</td>\n",
       "      <td>False</td>\n",
       "      <td>False</td>\n",
       "    </tr>\n",
       "    <tr>\n",
       "      <th>1</th>\n",
       "      <td>2/2/2008</td>\n",
       "      <td>19.5</td>\n",
       "      <td>25.6</td>\n",
       "      <td>6.0</td>\n",
       "      <td>3.4</td>\n",
       "      <td>2.7</td>\n",
       "      <td>41</td>\n",
       "      <td>9</td>\n",
       "      <td>13</td>\n",
       "      <td>83</td>\n",
       "      <td>...</td>\n",
       "      <td>False</td>\n",
       "      <td>False</td>\n",
       "      <td>False</td>\n",
       "      <td>False</td>\n",
       "      <td>False</td>\n",
       "      <td>False</td>\n",
       "      <td>False</td>\n",
       "      <td>False</td>\n",
       "      <td>False</td>\n",
       "      <td>False</td>\n",
       "    </tr>\n",
       "    <tr>\n",
       "      <th>2</th>\n",
       "      <td>2/3/2008</td>\n",
       "      <td>21.6</td>\n",
       "      <td>24.5</td>\n",
       "      <td>6.6</td>\n",
       "      <td>2.4</td>\n",
       "      <td>0.1</td>\n",
       "      <td>41</td>\n",
       "      <td>17</td>\n",
       "      <td>2</td>\n",
       "      <td>88</td>\n",
       "      <td>...</td>\n",
       "      <td>False</td>\n",
       "      <td>False</td>\n",
       "      <td>False</td>\n",
       "      <td>False</td>\n",
       "      <td>False</td>\n",
       "      <td>False</td>\n",
       "      <td>False</td>\n",
       "      <td>False</td>\n",
       "      <td>False</td>\n",
       "      <td>False</td>\n",
       "    </tr>\n",
       "    <tr>\n",
       "      <th>3</th>\n",
       "      <td>2/4/2008</td>\n",
       "      <td>20.2</td>\n",
       "      <td>22.8</td>\n",
       "      <td>18.8</td>\n",
       "      <td>2.2</td>\n",
       "      <td>0.0</td>\n",
       "      <td>41</td>\n",
       "      <td>22</td>\n",
       "      <td>20</td>\n",
       "      <td>83</td>\n",
       "      <td>...</td>\n",
       "      <td>False</td>\n",
       "      <td>False</td>\n",
       "      <td>False</td>\n",
       "      <td>False</td>\n",
       "      <td>False</td>\n",
       "      <td>False</td>\n",
       "      <td>False</td>\n",
       "      <td>False</td>\n",
       "      <td>False</td>\n",
       "      <td>False</td>\n",
       "    </tr>\n",
       "    <tr>\n",
       "      <th>4</th>\n",
       "      <td>2/5/2008</td>\n",
       "      <td>19.7</td>\n",
       "      <td>25.7</td>\n",
       "      <td>77.4</td>\n",
       "      <td>4.8</td>\n",
       "      <td>0.0</td>\n",
       "      <td>41</td>\n",
       "      <td>11</td>\n",
       "      <td>6</td>\n",
       "      <td>88</td>\n",
       "      <td>...</td>\n",
       "      <td>False</td>\n",
       "      <td>False</td>\n",
       "      <td>False</td>\n",
       "      <td>False</td>\n",
       "      <td>False</td>\n",
       "      <td>False</td>\n",
       "      <td>False</td>\n",
       "      <td>True</td>\n",
       "      <td>False</td>\n",
       "      <td>False</td>\n",
       "    </tr>\n",
       "  </tbody>\n",
       "</table>\n",
       "<p>5 rows × 68 columns</p>\n",
       "</div>"
      ],
      "text/plain": [
       "       Date  MinTemp  MaxTemp  Rainfall  Evaporation  Sunshine  WindGustSpeed  \\\n",
       "0  2/1/2008     19.5     22.4      15.6          6.2       0.0             41   \n",
       "1  2/2/2008     19.5     25.6       6.0          3.4       2.7             41   \n",
       "2  2/3/2008     21.6     24.5       6.6          2.4       0.1             41   \n",
       "3  2/4/2008     20.2     22.8      18.8          2.2       0.0             41   \n",
       "4  2/5/2008     19.7     25.7      77.4          4.8       0.0             41   \n",
       "\n",
       "   WindSpeed9am  WindSpeed3pm  Humidity9am  ...  WindDir3pm_NNW  \\\n",
       "0            17            20           92  ...           False   \n",
       "1             9            13           83  ...           False   \n",
       "2            17             2           88  ...           False   \n",
       "3            22            20           83  ...           False   \n",
       "4            11             6           88  ...           False   \n",
       "\n",
       "   WindDir3pm_NW  WindDir3pm_S  WindDir3pm_SE  WindDir3pm_SSE  WindDir3pm_SSW  \\\n",
       "0          False         False          False           False            True   \n",
       "1          False         False          False           False           False   \n",
       "2          False         False          False           False           False   \n",
       "3          False         False          False           False           False   \n",
       "4          False         False          False           False           False   \n",
       "\n",
       "   WindDir3pm_SW WindDir3pm_W  WindDir3pm_WNW  WindDir3pm_WSW  \n",
       "0          False        False           False           False  \n",
       "1          False        False           False           False  \n",
       "2          False        False           False           False  \n",
       "3          False        False           False           False  \n",
       "4          False         True           False           False  \n",
       "\n",
       "[5 rows x 68 columns]"
      ]
     },
     "execution_count": 37,
     "metadata": {},
     "output_type": "execute_result"
    }
   ],
   "source": [
    "df_processed.head()"
   ]
  },
  {
   "cell_type": "markdown",
   "id": "841d80a9-841f-41de-b150-ceef66f17bc3",
   "metadata": {},
   "source": [
    "### We also change the RainTommorow Column to binary from \"Yes\" and \"No\" for regression"
   ]
  },
  {
   "cell_type": "code",
   "execution_count": 38,
   "id": "b45c59bc-05e8-4cff-a3af-019a1a738e5d",
   "metadata": {},
   "outputs": [
    {
     "name": "stderr",
     "output_type": "stream",
     "text": [
      "C:\\Users\\Admin.DESKTOP-QVO174E\\AppData\\Local\\Temp\\ipykernel_37032\\1204962372.py:1: FutureWarning: Downcasting behavior in `replace` is deprecated and will be removed in a future version. To retain the old behavior, explicitly call `result.infer_objects(copy=False)`. To opt-in to the future behavior, set `pd.set_option('future.no_silent_downcasting', True)`\n",
      "  df_processed.replace(['No', 'Yes'], [0,1], inplace=True)\n"
     ]
    }
   ],
   "source": [
    "df_processed.replace(['No', 'Yes'], [0,1], inplace=True)"
   ]
  },
  {
   "cell_type": "markdown",
   "id": "4e179958-920b-4e35-9c56-11c38918ab75",
   "metadata": {},
   "source": [
    "# Prepare our data for Training and Testing"
   ]
  },
  {
   "cell_type": "code",
   "execution_count": 39,
   "id": "082e7235-4f75-4987-9246-c5c2bc4e2ba6",
   "metadata": {},
   "outputs": [],
   "source": [
    "df_processed.drop('Date',axis=1,inplace=True)"
   ]
  },
  {
   "cell_type": "code",
   "execution_count": 40,
   "id": "e3495254-98d8-4515-a662-ebb6303690de",
   "metadata": {},
   "outputs": [],
   "source": [
    "df_processed = df_processed.astype(float)"
   ]
  },
  {
   "cell_type": "code",
   "execution_count": 41,
   "id": "7d9c5098-306f-444a-a1b7-29334bc1882d",
   "metadata": {},
   "outputs": [],
   "source": [
    "x_values = df_processed.drop(columns='RainTomorrow', axis=1)"
   ]
  },
  {
   "cell_type": "code",
   "execution_count": 42,
   "id": "29eee647-f0c2-4bf2-adfe-55f51247554b",
   "metadata": {},
   "outputs": [],
   "source": [
    "y_values = df_processed['RainTomorrow']"
   ]
  },
  {
   "cell_type": "markdown",
   "id": "dc36e67d-3010-47f3-b9f7-97403f5d3e04",
   "metadata": {},
   "source": [
    "# Random Forests "
   ]
  },
  {
   "cell_type": "markdown",
   "id": "c935f3b9-a53a-48d8-871e-83df1687c7da",
   "metadata": {},
   "source": [
    "### We split the data for training and testing set to make it 20% for testing and 80% for Training"
   ]
  },
  {
   "cell_type": "code",
   "execution_count": 43,
   "id": "be3309cd-b9a4-47c2-ae9c-51d805cfdce6",
   "metadata": {},
   "outputs": [],
   "source": [
    "x_train, x_test, y_train, y_test =  train_test_split(x_values,y_values , random_state=10,test_size=0.2, shuffle=True)"
   ]
  },
  {
   "cell_type": "markdown",
   "id": "60dea1f2-01b7-4bad-8b28-014117a90017",
   "metadata": {},
   "source": [
    "## Create a random forest model"
   ]
  },
  {
   "cell_type": "code",
   "execution_count": 44,
   "id": "a9e11728-e46d-43a0-9cf8-b75c34e78413",
   "metadata": {},
   "outputs": [
    {
     "name": "stdout",
     "output_type": "stream",
     "text": [
      "Accuracy: 83%\n"
     ]
    }
   ],
   "source": [
    "forest = RandomForestClassifier(n_estimators = 100,\n",
    "                                criterion = 'gini',\n",
    "                                max_depth = 6,\n",
    "                                min_samples_leaf = 10,\n",
    "                                min_samples_split = 78,\n",
    "                                bootstrap = True,\n",
    "                                oob_score = True,\n",
    "                                random_state = 1912)\n",
    "\n",
    "forest.fit(x_train, np.ravel(y_train))\n",
    "\n",
    "prediction = forest.predict(x_test)\n",
    "\n",
    "# Score using the validation data.\n",
    "score = forest.score(x_test, y_test)\n",
    "\n",
    "print('Accuracy: {:.0f}%'.format(score * 100))"
   ]
  },
  {
   "cell_type": "markdown",
   "id": "8004c2af-f6ae-4232-98a2-ee90f6f03d39",
   "metadata": {},
   "source": [
    "# Visualize the structure of one decision tree in the forest"
   ]
  },
  {
   "cell_type": "code",
   "execution_count": 45,
   "id": "80838473-b983-4cc2-a268-6e2fda903a4a",
   "metadata": {},
   "outputs": [
    {
     "ename": "ModuleNotFoundError",
     "evalue": "No module named 'sklearn.externals.six'",
     "output_type": "error",
     "traceback": [
      "\u001b[1;31m---------------------------------------------------------------------------\u001b[0m",
      "\u001b[1;31mModuleNotFoundError\u001b[0m                       Traceback (most recent call last)",
      "Cell \u001b[1;32mIn[45], line 2\u001b[0m\n\u001b[0;32m      1\u001b[0m \u001b[38;5;28;01mfrom\u001b[39;00m \u001b[38;5;21;01msklearn\u001b[39;00m\u001b[38;5;21;01m.\u001b[39;00m\u001b[38;5;21;01mtree\u001b[39;00m \u001b[38;5;28;01mimport\u001b[39;00m export_graphviz\n\u001b[1;32m----> 2\u001b[0m \u001b[38;5;28;01mfrom\u001b[39;00m \u001b[38;5;21;01msklearn\u001b[39;00m\u001b[38;5;21;01m.\u001b[39;00m\u001b[38;5;21;01mexternals\u001b[39;00m\u001b[38;5;21;01m.\u001b[39;00m\u001b[38;5;21;01msix\u001b[39;00m \u001b[38;5;28;01mimport\u001b[39;00m StringIO  \n\u001b[0;32m      3\u001b[0m \u001b[38;5;28;01mfrom\u001b[39;00m \u001b[38;5;21;01mIPython\u001b[39;00m\u001b[38;5;21;01m.\u001b[39;00m\u001b[38;5;21;01mdisplay\u001b[39;00m \u001b[38;5;28;01mimport\u001b[39;00m Image, display \n\u001b[0;32m      4\u001b[0m \u001b[38;5;28;01mimport\u001b[39;00m \u001b[38;5;21;01mpydotplus\u001b[39;00m \u001b[38;5;28;01mas\u001b[39;00m \u001b[38;5;21;01mpdotp\u001b[39;00m\n",
      "\u001b[1;31mModuleNotFoundError\u001b[0m: No module named 'sklearn.externals.six'"
     ]
    }
   ],
   "source": [
    "from sklearn.tree import export_graphviz\n",
    "from sklearn.externals.six import StringIO  \n",
    "from IPython.display import Image, display \n",
    "import pydotplus as pdotp\n",
    "\n",
    "def plot_tree(model, image):\n",
    "    dot_data = StringIO()\n",
    "    export_graphviz(model, out_file = dot_data, \n",
    "                    filled = True,\n",
    "                    rounded = True,\n",
    "                    special_characters = True, \n",
    "                    feature_names = X_train.columns.values.tolist(),\n",
    "                    class_names = ['0', '1'])\n",
    "\n",
    "    graph = pdotp.graph_from_dot_data(dot_data.getvalue())  \n",
    "    graph.write_png(image)\n",
    "    Image(graph.create_png())\n",
    "    \n",
    "print('The visualization function has been defined.')"
   ]
  },
  {
   "cell_type": "markdown",
   "id": "85ab6919-e612-4067-974f-72dc09026e7c",
   "metadata": {},
   "source": [
    "# Compute accuracy, precision, recall, and F<sub>1</sub> score"
   ]
  },
  {
   "cell_type": "code",
   "execution_count": 46,
   "id": "2a13d9b1-e5a4-4eb9-8251-579f1c81e687",
   "metadata": {},
   "outputs": [
    {
     "name": "stdout",
     "output_type": "stream",
     "text": [
      "The function to show the scores has been defined.\n"
     ]
    }
   ],
   "source": [
    "def model_scores(y, prediction):\n",
    "    acc = accuracy_score(y, prediction)\n",
    "    print('Accuracy: {:.0f}%'.format(np.round(acc * 100)))\n",
    "    \n",
    "    precision = precision_score(y, prediction)\n",
    "    print('Precision: {:.0f}%'.format(np.round(precision * 100)))\n",
    "    \n",
    "    recall = recall_score(y, prediction)\n",
    "    print('Recall: {:.0f}%'.format(np.round(recall * 100)))\n",
    "    \n",
    "    f1 = f1_score(y, prediction)\n",
    "    print('F1: {:.0f}%'.format(np.round(f1 * 100)))\n",
    "    \n",
    "print('The function to show the scores has been defined.')"
   ]
  },
  {
   "cell_type": "markdown",
   "id": "cd7c4c37-dbb1-4de7-9871-780a264d9872",
   "metadata": {},
   "source": [
    "# Generate a ROC curve and compute the AUC"
   ]
  },
  {
   "cell_type": "code",
   "execution_count": 47,
   "id": "054f801c-96ba-4404-bdba-e8db3c4cf363",
   "metadata": {},
   "outputs": [
    {
     "name": "stdout",
     "output_type": "stream",
     "text": [
      "The function to generate the ROC curve and compute AUC has been defined.\n"
     ]
    }
   ],
   "source": [
    "def roc(y, prediction_proba):\n",
    "    fpr, tpr, thresholds = roc_curve(y, prediction_proba)\n",
    "    \n",
    "    plt.plot(fpr, tpr);\n",
    "    plt.xlim([0.0, 1.0]);\n",
    "    plt.ylim([0.0, 1.0]);\n",
    "    plt.title('ROC Curve');\n",
    "    plt.xlabel('False Positive Rate');\n",
    "    plt.ylabel('True Positive Rate');\n",
    "    plt.grid(True);\n",
    "    \n",
    "    auc = roc_auc_score(y, prediction_proba)\n",
    "    print('Area Under Curve: {:.2f}'.format(auc))\n",
    "    \n",
    "print('The function to generate the ROC curve and compute AUC has been defined.')"
   ]
  },
  {
   "cell_type": "markdown",
   "id": "6e7aa2da-3989-405c-8ae1-26aa1040fba1",
   "metadata": {},
   "source": [
    "# Generate a precision–recall curve and compute the average precision"
   ]
  },
  {
   "cell_type": "code",
   "execution_count": 48,
   "id": "cac68e01-12f5-453c-ba7d-9a84e18faaa5",
   "metadata": {},
   "outputs": [
    {
     "name": "stdout",
     "output_type": "stream",
     "text": [
      "The function to generate a PRC and compute average precision has been defined.\n"
     ]
    }
   ],
   "source": [
    "def prc(y, prediction_proba):\n",
    "    precision, recall, thresholds = precision_recall_curve(y, prediction_proba)\n",
    "    \n",
    "    plt.plot(recall, precision);\n",
    "    plt.xlim([0.0, 1.0]);\n",
    "    plt.ylim([0.0, 1.0]);\n",
    "    plt.title('Precision–Recall Curve');\n",
    "    plt.xlabel('Recall');\n",
    "    plt.ylabel('Precision');\n",
    "    plt.grid(True);\n",
    "    \n",
    "    ap = average_precision_score(y, prediction_proba)\n",
    "    print('Average Precision: {:.2f}'.format(ap))\n",
    "    \n",
    "print('The function to generate a PRC and compute average precision has been defined.')"
   ]
  },
  {
   "cell_type": "code",
   "execution_count": 49,
   "id": "bd4b10c9-dc6e-4637-8395-8b9f6ec7e151",
   "metadata": {},
   "outputs": [
    {
     "ename": "NameError",
     "evalue": "name 'plot_tree' is not defined",
     "output_type": "error",
     "traceback": [
      "\u001b[1;31m---------------------------------------------------------------------------\u001b[0m",
      "\u001b[1;31mNameError\u001b[0m                                 Traceback (most recent call last)",
      "Cell \u001b[1;32mIn[49], line 1\u001b[0m\n\u001b[1;32m----> 1\u001b[0m \u001b[43mplot_tree\u001b[49m(forest\u001b[38;5;241m.\u001b[39mestimators_[\u001b[38;5;241m0\u001b[39m], \u001b[38;5;124m'\u001b[39m\u001b[38;5;124mtitanic_forest_tree0.png\u001b[39m\u001b[38;5;124m'\u001b[39m)\n\u001b[0;32m      2\u001b[0m display(Image(\u001b[38;5;124m'\u001b[39m\u001b[38;5;124mtitanic_forest_tree0.png\u001b[39m\u001b[38;5;124m'\u001b[39m))\n",
      "\u001b[1;31mNameError\u001b[0m: name 'plot_tree' is not defined"
     ]
    }
   ],
   "source": [
    "plot_tree(forest.estimators_[0], 'titanic_forest_tree0.png')\n",
    "display(Image('titanic_forest_tree0.png'))"
   ]
  },
  {
   "cell_type": "markdown",
   "id": "124d8a41-ecd6-4e2d-b211-b37c80e06b4a",
   "metadata": {},
   "source": [
    "# Evaluate the random forest model"
   ]
  },
  {
   "cell_type": "code",
   "execution_count": 50,
   "id": "011f3347-d0e2-422e-84cc-5cbb68af3915",
   "metadata": {},
   "outputs": [
    {
     "name": "stdout",
     "output_type": "stream",
     "text": [
      "Accuracy: 83%\n",
      "Precision: 79%\n",
      "Recall: 52%\n",
      "F1: 63%\n"
     ]
    }
   ],
   "source": [
    "model_scores(y_test, prediction)"
   ]
  },
  {
   "cell_type": "code",
   "execution_count": 51,
   "id": "a34b3087-420b-4fcd-ba70-0df608b38343",
   "metadata": {},
   "outputs": [
    {
     "name": "stdout",
     "output_type": "stream",
     "text": [
      "Area Under Curve: 0.87\n"
     ]
    },
    {
     "data": {
      "image/png": "[encoded data removed]",
      "text/plain": [
       "<Figure size 640x480 with 1 Axes>"
      ]
     },
     "metadata": {},
     "output_type": "display_data"
    }
   ],
   "source": [
    "predict_proba = forest.predict_proba(x_test)\n",
    "\n",
    "roc(y_test, predict_proba[:, 1])"
   ]
  },
  {
   "cell_type": "code",
   "execution_count": 52,
   "id": "006a8a8e-f735-4561-8f5d-5b21471ae25a",
   "metadata": {},
   "outputs": [
    {
     "name": "stdout",
     "output_type": "stream",
     "text": [
      "Average Precision: 0.76\n"
     ]
    },
    {
     "data": {
      "image/png": "[encoded data removed]",
      "text/plain": [
       "<Figure size 640x480 with 1 Axes>"
      ]
     },
     "metadata": {},
     "output_type": "display_data"
    }
   ],
   "source": [
    "prc(y_test, predict_proba[:, 1])"
   ]
  },
  {
   "cell_type": "markdown",
   "id": "f627fd4f-3354-40d4-bb24-46b3b245bd51",
   "metadata": {},
   "source": [
    "# Generate the out-of-bag error and decision function"
   ]
  },
  {
   "cell_type": "code",
   "execution_count": 53,
   "id": "f89e6e64-8651-479c-89e0-07d909e053ce",
   "metadata": {},
   "outputs": [
    {
     "name": "stdout",
     "output_type": "stream",
     "text": [
      "Out-of-bag error: 0.164\n"
     ]
    }
   ],
   "source": [
    "oob_error = 1 - forest.oob_score_\n",
    "print('Out-of-bag error: {}'.format(round(oob_error, 3)))"
   ]
  },
  {
   "cell_type": "code",
   "execution_count": null,
   "id": "9bd2d720-5d35-465e-9d69-dbd36cafd4ea",
   "metadata": {},
   "outputs": [],
   "source": []
  },
  {
   "cell_type": "code",
   "execution_count": null,
   "id": "6f41fa8f-f7bd-4af3-96a4-4cb71e58da0e",
   "metadata": {},
   "outputs": [],
   "source": []
  },
  {
   "cell_type": "code",
   "execution_count": null,
   "id": "ccaf31d8-cb33-4f5f-b237-947f0160a2c1",
   "metadata": {},
   "outputs": [],
   "source": []
  },
  {
   "cell_type": "code",
   "execution_count": null,
   "id": "92c70943-4911-43a8-ac0d-a43014a58a23",
   "metadata": {},
   "outputs": [],
   "source": []
  }
 ],
 "metadata": {
  "kernelspec": {
   "display_name": "Python 3 (ipykernel)",
   "language": "python",
   "name": "python3"
  },
  "language_info": {
   "codemirror_mode": {
    "name": "ipython",
    "version": 3
   },
   "file_extension": ".py",
   "mimetype": "text/x-python",
   "name": "python",
   "nbconvert_exporter": "python",
   "pygments_lexer": "ipython3",
   "version": "3.12.2"
  }
 },
 "nbformat": 4,
 "nbformat_minor": 5
}
